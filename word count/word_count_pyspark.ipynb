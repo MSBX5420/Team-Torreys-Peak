{
 "cells": [
  {
   "cell_type": "code",
   "execution_count": 1,
   "metadata": {},
   "outputs": [],
   "source": [
    "from __future__ import print_function\n",
    "from pyspark.sql import SparkSession\n",
    "from pyspark.sql.functions import countDistinct\n",
    "from pyspark.sql.functions import *\n",
    "from pyspark.sql.functions import split\n",
    "import time"
   ]
  },
  {
   "cell_type": "markdown",
   "metadata": {},
   "source": [
    "start a new spark session and generate spark context"
   ]
  },
  {
   "cell_type": "code",
   "execution_count": 2,
   "metadata": {},
   "outputs": [],
   "source": [
    "spark = SparkSession.builder.getOrCreate()\n",
    "sc = spark.sparkContext"
   ]
  },
  {
   "cell_type": "markdown",
   "metadata": {},
   "source": [
    "read csv and generate spark DataFrame"
   ]
  },
  {
   "cell_type": "code",
   "execution_count": 3,
   "metadata": {},
   "outputs": [],
   "source": [
    "df = spark.read.format('csv').option(\"escape\",\"\\\"\").option('header',True).load(\"s3://msbx5420-2020/yongbo/news.csv\")"
   ]
  },
  {
   "cell_type": "code",
   "execution_count": 4,
   "metadata": {},
   "outputs": [
    {
     "data": {
      "text/plain": [
       "<bound method DataFrame.printSchema of DataFrame[index: string, authors: string, title: string, publish_date: string, description: string, text: string, url: string]>"
      ]
     },
     "execution_count": 4,
     "metadata": {},
     "output_type": "execute_result"
    }
   ],
   "source": [
    "df.printSchema"
   ]
  },
  {
   "cell_type": "code",
   "execution_count": 5,
   "metadata": {},
   "outputs": [
    {
     "data": {
      "text/plain": [
       "Row(index='0', authors=\"['Cbc News']\", title=\"Coronavirus a 'wake-up call' for Canada's prescription drug supply\", publish_date='2020-03-27 08:00:00', description='Canadian pharmacies are limiting how much medication can be dispensed to try to prevent shortages, recognizing that most active ingredients for drugs come from India and China and medical supply chains have been disrupted by the spread of COVID-19.', text='Canadian pharmacies are limiting how much medication can be dispensed to try to prevent shortages, recognizing that most active ingredients for drugs come from India and China and medical supply chains have been disrupted by the spread of COVID-19. Provincial regulatory colleges are complying with the Canadian Pharmacists Association call to limit the amount of medications given to patients to 30-day\\xa0supplies. The goal is to stop people from refilling prescriptions early and to ensure life-saving drugs don\\'t run short when supply chains are\\xa0vulnerable. Mina Tadrous is a pharmacist and researcher in Toronto who monitors pharmaceutical supplies. He is worried Canadians will start stockpiling drugs after watching what has been unfolding in the U.S. and other regions as the virus spreads.\\xa0 He said pharmacists are concerned about drugs such as life-saving inhalers that people might stockpile based on misinformation circulating about potential treatments for COVID-19. \"It\\'s that relationship of how people are reacting rather than the actual supply of medications,\" he said.\\xa0 Tadrous said pharmacies get their medications and supplies from wholesalers, who get theirs from distributors who source them from manufacturers. Outside of wholesalers, most of that\\xa0supply chain is outside of Canada.\\xa0 Ongoing shortages Dr. Jacalyn Duffin of Queen\\'s University in Kingston, Ont., has long warned about the increasing frequency of drug shortages, including nearly 2,000 ongoing shortages, none of which she attributes to coronavirus. China and India produce 80 per cent of the active ingredients of prescription drugs sold in North America, said Dr. Jacalyn Duffin. (Kas Roussy/CBC) Given that China and India produce 80 per cent of the active ingredients of prescription drugs sold in North America, supply disruptions are expected eventually, Duffin said. \"I think that the coronavirus outbreak is a big wake-up call for us to pay attention to our drug shortages that exist already and to pay attention to where our drugs come from,\" she said. What you need to know about getting new prescriptions, refillsNew Brunswick offers relief on prescription co-pays during outbreak India, a major supplier of generic drugs to Europe, has already shut down the export of some antibiotics and drugs for hypertension, blood pressure and acetaminophen, Duffin said. As a precaution, the federal government has enacted sweeping legislation that gives it the right to force patented drugmakers to make more medicine if necessary and remove patents as part of the response to the public health emergency.\\xa0', url='https://www.cbc.ca/news/health/covid-19-drug-supply-1.5511659')"
      ]
     },
     "execution_count": 5,
     "metadata": {},
     "output_type": "execute_result"
    }
   ],
   "source": [
    "df.collect()[0]"
   ]
  },
  {
   "cell_type": "markdown",
   "metadata": {},
   "source": [
    "use regex to get rid of some non-alphanumeric characters with text column"
   ]
  },
  {
   "cell_type": "code",
   "execution_count": 6,
   "metadata": {},
   "outputs": [],
   "source": [
    "newdf = df.withColumn('text', regexp_replace('text', '\\xa0', ''))\n",
    "newdf = newdf.withColumn('text', regexp_replace('text', '\\\\\\'', ''))"
   ]
  },
  {
   "cell_type": "code",
   "execution_count": 7,
   "metadata": {},
   "outputs": [
    {
     "data": {
      "text/plain": [
       "pyspark.sql.dataframe.DataFrame"
      ]
     },
     "execution_count": 7,
     "metadata": {},
     "output_type": "execute_result"
    }
   ],
   "source": [
    "type(newdf)"
   ]
  },
  {
   "cell_type": "code",
   "execution_count": 8,
   "metadata": {},
   "outputs": [
    {
     "data": {
      "text/plain": [
       "[Row(index='0', authors=\"['Cbc News']\", title=\"Coronavirus a 'wake-up call' for Canada's prescription drug supply\", publish_date='2020-03-27 08:00:00', description='Canadian pharmacies are limiting how much medication can be dispensed to try to prevent shortages, recognizing that most active ingredients for drugs come from India and China and medical supply chains have been disrupted by the spread of COVID-19.', text='Canadian pharmacies are limiting how much medication can be dispensed to try to prevent shortages, recognizing that most active ingredients for drugs come from India and China and medical supply chains have been disrupted by the spread of COVID-19. Provincial regulatory colleges are complying with the Canadian Pharmacists Association call to limit the amount of medications given to patients to 30-daysupplies. The goal is to stop people from refilling prescriptions early and to ensure life-saving drugs dont run short when supply chains arevulnerable. Mina Tadrous is a pharmacist and researcher in Toronto who monitors pharmaceutical supplies. He is worried Canadians will start stockpiling drugs after watching what has been unfolding in the U.S. and other regions as the virus spreads. He said pharmacists are concerned about drugs such as life-saving inhalers that people might stockpile based on misinformation circulating about potential treatments for COVID-19. \"Its that relationship of how people are reacting rather than the actual supply of medications,\" he said. Tadrous said pharmacies get their medications and supplies from wholesalers, who get theirs from distributors who source them from manufacturers. Outside of wholesalers, most of thatsupply chain is outside of Canada. Ongoing shortages Dr. Jacalyn Duffin of Queens University in Kingston, Ont., has long warned about the increasing frequency of drug shortages, including nearly 2,000 ongoing shortages, none of which she attributes to coronavirus. China and India produce 80 per cent of the active ingredients of prescription drugs sold in North America, said Dr. Jacalyn Duffin. (Kas Roussy/CBC) Given that China and India produce 80 per cent of the active ingredients of prescription drugs sold in North America, supply disruptions are expected eventually, Duffin said. \"I think that the coronavirus outbreak is a big wake-up call for us to pay attention to our drug shortages that exist already and to pay attention to where our drugs come from,\" she said. What you need to know about getting new prescriptions, refillsNew Brunswick offers relief on prescription co-pays during outbreak India, a major supplier of generic drugs to Europe, has already shut down the export of some antibiotics and drugs for hypertension, blood pressure and acetaminophen, Duffin said. As a precaution, the federal government has enacted sweeping legislation that gives it the right to force patented drugmakers to make more medicine if necessary and remove patents as part of the response to the public health emergency.', url='https://www.cbc.ca/news/health/covid-19-drug-supply-1.5511659')]"
      ]
     },
     "execution_count": 8,
     "metadata": {},
     "output_type": "execute_result"
    }
   ],
   "source": [
    "newdf.take(1)"
   ]
  },
  {
   "cell_type": "markdown",
   "metadata": {},
   "source": [
    "\"\\xa0\" and \"\\'\" are removed"
   ]
  },
  {
   "cell_type": "markdown",
   "metadata": {},
   "source": [
    "Next we perform word count with rdd"
   ]
  },
  {
   "cell_type": "code",
   "execution_count": 9,
   "metadata": {},
   "outputs": [],
   "source": [
    "rdd_text = newdf.select('text').rdd"
   ]
  },
  {
   "cell_type": "code",
   "execution_count": 10,
   "metadata": {},
   "outputs": [],
   "source": [
    "counts_rdd = rdd_text.flatMap(lambda x: x[0].split(\" \")).map(lambda x: (x, 1)).reduceByKey(lambda x,y: x+y)"
   ]
  },
  {
   "cell_type": "code",
   "execution_count": 11,
   "metadata": {},
   "outputs": [
    {
     "data": {
      "text/plain": [
       "pyspark.rdd.PipelinedRDD"
      ]
     },
     "execution_count": 11,
     "metadata": {},
     "output_type": "execute_result"
    }
   ],
   "source": [
    "type(counts_rdd)"
   ]
  },
  {
   "cell_type": "markdown",
   "metadata": {},
   "source": [
    "convert the results from rdd to DataFrame"
   ]
  },
  {
   "cell_type": "code",
   "execution_count": 12,
   "metadata": {},
   "outputs": [],
   "source": [
    "counts_rdd = counts_rdd.toDF()"
   ]
  },
  {
   "cell_type": "code",
   "execution_count": 13,
   "metadata": {},
   "outputs": [
    {
     "name": "stdout",
     "output_type": "stream",
     "text": [
      "+-----------+-----+\n",
      "|         _1|   _2|\n",
      "+-----------+-----+\n",
      "|        Dr.| 2408|\n",
      "|         of|60065|\n",
      "|coronavirus| 5887|\n",
      "|       have|16525|\n",
      "|       four|  841|\n",
      "|      virus| 3126|\n",
      "|         to|82495|\n",
      "|    Control|  256|\n",
      "|         is|24348|\n",
      "|   stable,\"|    2|\n",
      "|       said|18059|\n",
      "| Henry.\"All|    1|\n",
      "|         at|14274|\n",
      "|     home,\"|  112|\n",
      "|      week,|  654|\n",
      "|        two| 3196|\n",
      "|      their| 7952|\n",
      "|        30s|   90|\n",
      "|        her| 2860|\n",
      "|        was| 8222|\n",
      "+-----------+-----+\n",
      "only showing top 20 rows\n",
      "\n"
     ]
    }
   ],
   "source": [
    "counts_rdd.show()"
   ]
  },
  {
   "cell_type": "markdown",
   "metadata": {},
   "source": [
    "add header to DataFrame"
   ]
  },
  {
   "cell_type": "code",
   "execution_count": 14,
   "metadata": {},
   "outputs": [],
   "source": [
    "counts_rdd = counts_rdd.toDF('word', 'count')"
   ]
  },
  {
   "cell_type": "code",
   "execution_count": 15,
   "metadata": {},
   "outputs": [
    {
     "name": "stdout",
     "output_type": "stream",
     "text": [
      "+-----------+-----+\n",
      "|       word|count|\n",
      "+-----------+-----+\n",
      "|        Dr.| 2408|\n",
      "|         of|60065|\n",
      "|coronavirus| 5887|\n",
      "|       have|16525|\n",
      "|       four|  841|\n",
      "|      virus| 3126|\n",
      "|         to|82495|\n",
      "|    Control|  256|\n",
      "|         is|24348|\n",
      "|   stable,\"|    2|\n",
      "|       said|18059|\n",
      "| Henry.\"All|    1|\n",
      "|         at|14274|\n",
      "|     home,\"|  112|\n",
      "|      week,|  654|\n",
      "|        two| 3196|\n",
      "|      their| 7952|\n",
      "|        30s|   90|\n",
      "|        her| 2860|\n",
      "|        was| 8222|\n",
      "+-----------+-----+\n",
      "only showing top 20 rows\n",
      "\n"
     ]
    }
   ],
   "source": [
    "counts_rdd.show()"
   ]
  },
  {
   "cell_type": "code",
   "execution_count": 16,
   "metadata": {},
   "outputs": [
    {
     "data": {
      "text/plain": [
       "pyspark.sql.dataframe.DataFrame"
      ]
     },
     "execution_count": 16,
     "metadata": {},
     "output_type": "execute_result"
    }
   ],
   "source": [
    "type(counts_rdd)"
   ]
  },
  {
   "cell_type": "markdown",
   "metadata": {},
   "source": [
    "print DataFrame size"
   ]
  },
  {
   "cell_type": "code",
   "execution_count": 17,
   "metadata": {
    "scrolled": true
   },
   "outputs": [
    {
     "name": "stdout",
     "output_type": "stream",
     "text": [
      "(110744, 2)\n"
     ]
    }
   ],
   "source": [
    "print((counts_rdd.count(), len(counts_rdd.columns)))"
   ]
  },
  {
   "cell_type": "markdown",
   "metadata": {},
   "source": [
    "get descending order by \"count\" column"
   ]
  },
  {
   "cell_type": "code",
   "execution_count": 18,
   "metadata": {},
   "outputs": [
    {
     "name": "stdout",
     "output_type": "stream",
     "text": [
      "+----+------+\n",
      "|word| count|\n",
      "+----+------+\n",
      "| the|113649|\n",
      "|  to| 82495|\n",
      "|  of| 60065|\n",
      "| and| 55072|\n",
      "|  in| 48456|\n",
      "|   a| 42250|\n",
      "| for| 25529|\n",
      "|  is| 24348|\n",
      "|that| 21667|\n",
      "|  on| 21124|\n",
      "| are| 20494|\n",
      "|said| 18059|\n",
      "|have| 16525|\n",
      "|  be| 15575|\n",
      "|with| 15557|\n",
      "| The| 14716|\n",
      "|  at| 14274|\n",
      "|  as| 13050|\n",
      "|from| 12857|\n",
      "|will| 12065|\n",
      "+----+------+\n",
      "only showing top 20 rows\n",
      "\n"
     ]
    }
   ],
   "source": [
    "counts_rdd.orderBy(desc(\"count\")).show()"
   ]
  },
  {
   "cell_type": "markdown",
   "metadata": {},
   "source": [
    "word count directly from rdd"
   ]
  },
  {
   "cell_type": "code",
   "execution_count": 19,
   "metadata": {},
   "outputs": [
    {
     "data": {
      "text/plain": [
       "[('the', 113649),\n",
       " ('to', 82495),\n",
       " ('of', 60065),\n",
       " ('and', 55072),\n",
       " ('in', 48456),\n",
       " ('a', 42250),\n",
       " ('for', 25529),\n",
       " ('is', 24348),\n",
       " ('that', 21667),\n",
       " ('on', 21124),\n",
       " ('are', 20494),\n",
       " ('said', 18059),\n",
       " ('have', 16525),\n",
       " ('be', 15575),\n",
       " ('with', 15557),\n",
       " ('The', 14716),\n",
       " ('at', 14274),\n",
       " ('as', 13050),\n",
       " ('from', 12857),\n",
       " ('will', 12065)]"
      ]
     },
     "execution_count": 19,
     "metadata": {},
     "output_type": "execute_result"
    }
   ],
   "source": [
    "rdd_text.flatMap(lambda x: x[0].split(\" \")).map(lambda x: (x, 1))\\\n",
    "    .reduceByKey(lambda x,y: x+y).sortBy(lambda a: a[1], False).take(20)"
   ]
  },
  {
   "cell_type": "markdown",
   "metadata": {},
   "source": [
    "word count with Dataframe"
   ]
  },
  {
   "cell_type": "code",
   "execution_count": 20,
   "metadata": {},
   "outputs": [],
   "source": [
    "import pyspark.sql.functions as x"
   ]
  },
  {
   "cell_type": "code",
   "execution_count": 21,
   "metadata": {},
   "outputs": [
    {
     "name": "stdout",
     "output_type": "stream",
     "text": [
      "+----+------+\n",
      "|word| count|\n",
      "+----+------+\n",
      "| the|113649|\n",
      "|  to| 82495|\n",
      "|  of| 60065|\n",
      "| and| 55072|\n",
      "|  in| 48456|\n",
      "|   a| 42250|\n",
      "| for| 25529|\n",
      "|  is| 24348|\n",
      "|that| 21667|\n",
      "|  on| 21124|\n",
      "| are| 20494|\n",
      "|said| 18059|\n",
      "|have| 16525|\n",
      "|  be| 15575|\n",
      "|with| 15557|\n",
      "| The| 14716|\n",
      "|  at| 14274|\n",
      "|  as| 13050|\n",
      "|from| 12857|\n",
      "|will| 12065|\n",
      "+----+------+\n",
      "only showing top 20 rows\n",
      "\n"
     ]
    }
   ],
   "source": [
    "newdf.withColumn('word', x.explode(x.split(x.col('text'), ' '))).groupBy('word').count()\\\n",
    "    .sort('count', ascending=False).show()"
   ]
  },
  {
   "cell_type": "markdown",
   "metadata": {},
   "source": [
    "test running time"
   ]
  },
  {
   "cell_type": "code",
   "execution_count": 29,
   "metadata": {},
   "outputs": [
    {
     "name": "stdout",
     "output_type": "stream",
     "text": [
      "--- rdd running time (without sorting) is 0.030278921127319336 seconds ---\n",
      "--- DataFrame running time (without sorting) is 0.18393468856811523 seconds ---\n",
      "--- rdd running time (with sorting) is 8.592974662780762 seconds ---\n",
      "--- DataFrame running time (with sorting) is 0.2873249053955078 seconds ---\n"
     ]
    }
   ],
   "source": [
    "start_time1 = time.time()\n",
    "rdd_text.flatMap(lambda x: x[0].split(\" \")).map(lambda x: (x, 1)).reduceByKey(lambda x,y: x+y)\n",
    "print(\"--- rdd running time (without sorting) is %s seconds ---\" % (time.time() - start_time1))\n",
    "\n",
    "start_time2 = time.time()\n",
    "newdf.withColumn('word', x.explode(x.split(x.col('text'), ' '))).groupBy('word').count()\n",
    "print(\"--- DataFrame running time (without sorting) is %s seconds ---\" % (time.time() - start_time2))\n",
    "\n",
    "start_time3 = time.time()\n",
    "rdd_timing = rdd_text.flatMap(lambda x: x[0].split(\" \")).map(lambda x: (x, 1)).reduceByKey(lambda x,y: x+y)\\\n",
    "    .sortBy(lambda a: a[1], False)\n",
    "print(\"--- rdd running time (with sorting) is %s seconds ---\" % (time.time() - start_time3))\n",
    "\n",
    "start_time4 = time.time()\n",
    "newdf_timing = newdf.withColumn('word', x.explode(x.split(x.col('text'), ' '))).groupBy('word').count()\\\n",
    "    .sort('count', ascending=False)\n",
    "print(\"--- DataFrame running time (with sorting) is %s seconds ---\" % (time.time() - start_time4))"
   ]
  },
  {
   "cell_type": "markdown",
   "metadata": {},
   "source": [
    "It's obvious that creating a new column in DataFrame seems slower than a corresponding map to transformation in RDD.\n",
    "But if we add (slightly) more aggregations and grouping, DataFrame is definitely the faster one compare to rdd."
   ]
  },
  {
   "cell_type": "code",
   "execution_count": 30,
   "metadata": {},
   "outputs": [
    {
     "name": "stdout",
     "output_type": "stream",
     "text": [
      "--- rdd running time is 0.7412478923797607 seconds ---\n",
      "--- DataFrame running time is 8.040996551513672 seconds ---\n",
      "--- DataFrame running time is 1.1875431537628174 seconds ---\n"
     ]
    }
   ],
   "source": [
    "start_time1 = time.time()\n",
    "rdd_timing.collect()\n",
    "print(\"--- rdd running time is %s seconds ---\" % (time.time() - start_time1))\n",
    "\n",
    "start_time2 = time.time()\n",
    "newdf_timing.collect()\n",
    "print(\"--- DataFrame running time is %s seconds ---\" % (time.time() - start_time2))\n",
    "\n",
    "newdf_timing_cache = newdf_timing.cache()\n",
    "start_time3 = time.time()\n",
    "newdf_timing_cache.collect()\n",
    "print(\"--- DataFrame running time is %s seconds ---\" % (time.time() - start_time3))"
   ]
  },
  {
   "cell_type": "markdown",
   "metadata": {},
   "source": [
    "sometimes collecting on rdd is very slow but sometimes are fast. might because network traffic and heavy disk IO operations\n",
    "\n",
    "but caching on DataFrame first and then collecting definitely boost collect performance"
   ]
  },
  {
   "cell_type": "markdown",
   "metadata": {},
   "source": [
    "Interesting experiment for fun, check number of words in each news (or you can say \"each row\")"
   ]
  },
  {
   "cell_type": "code",
   "execution_count": 31,
   "metadata": {},
   "outputs": [
    {
     "name": "stdout",
     "output_type": "stream",
     "text": [
      "+-----+--------------------+--------------------+-------------------+--------------------+--------------------+--------------------+---------+\n",
      "|index|             authors|               title|       publish_date|         description|                text|                 url|wordCount|\n",
      "+-----+--------------------+--------------------+-------------------+--------------------+--------------------+--------------------+---------+\n",
      "|    0|        ['Cbc News']|Coronavirus a 'wa...|2020-03-27 08:00:00|Canadian pharmaci...|Canadian pharmaci...|https://www.cbc.c...|      395|\n",
      "|    1|        ['Cbc News']|Yukon gov't names...|2020-03-27 01:45:00|The Yukon governm...|The Yukon governm...|https://www.cbc.c...|      303|\n",
      "|    2|['The Associated ...|U.S. Senate passe...|2020-03-26 05:13:00|The Senate has pa...|The Senate late W...|https://www.cbc.c...|      974|\n",
      "|    3|        ['Cbc News']|Coronavirus: The ...|2020-03-27 00:36:00|Scientists around...|Scientists around...|https://www.cbc.c...|      721|\n",
      "|    4|        ['Cbc News']|The latest on the...|2020-03-26 20:57:00|The latest on the...|   Trudeau says r...|https://www.cbc.c...|     1388|\n",
      "|    5|['Mark Gollom Is ...|'Worse' pandemic ...|2020-03-27 08:00:00|The continued exi...|The continued exi...|https://www.cbc.c...|     1017|\n",
      "|    6|        ['Cbc News']|What you need to ...|2020-03-27 08:00:00|CBC Ottawa's late...|Recent developmen...|https://www.cbc.c...|     1821|\n",
      "|    7|['The Associated ...|Michigan hospital...|2020-03-26 11:02:00|Michigan hospital...|Michigan hospital...|https://www.cbc.c...|      131|\n",
      "|    8| ['Thomson Reuters']|U.S. coronavirus ...|2020-03-26 14:55:00|The number of con...|The number of con...|https://www.cbc.c...|     1407|\n",
      "|    9|['Leah Hendry Is ...|'Avoid the emerge...|2020-03-27 08:00:00|Montreal's Jewish...|The Jewish Genera...|https://www.cbc.c...|      652|\n",
      "|   10|['Reporter', 'Web...|COVID-19 in Sask:...|2020-03-26 14:18:00|The Saskatchewan ...| Three Saskatchew...|https://www.cbc.c...|     1490|\n",
      "|   11|['Jorge Barrera I...|Manitoba chiefs o...|2020-03-27 08:01:00|A Manitoba chiefs...|A Manitoba chiefs...|https://www.cbc.c...|      789|\n",
      "|   12|['Colleen M. Floo...|How invoking the ...|2020-03-27 08:00:00|Under the Emergen...|This column is an...|https://www.cbc.c...|     1051|\n",
      "|   14|['Producer', 'Cbc...|In Ontario, const...|2020-03-27 08:00:00|Construction is o...|Construction is o...|https://www.cbc.c...|     1557|\n",
      "|   15|['Dan Mcgarvey Is...|Alberta's film in...|2020-03-26 12:00:00|Alberta’s TV and ...|Albertas TV and m...|https://www.cbc.c...|      687|\n",
      "|   16|['Cbc News New Yo...|'Like a war zone'...|2020-03-27 08:00:00|Dr. Tanzib Hossai...|The first wave hi...|https://www.cbc.c...|      908|\n",
      "|   17|                  []|N.L. fisheries re...|2020-03-27 08:30:00|A Memorial Univer...|A Memorial Univer...|https://www.cbc.c...|      484|\n",
      "|   18|                  []|1st death, 3 new ...|2020-03-11 00:15:00|Here's today's in...|Manitoba is under...|https://www.cbc.c...|     4783|\n",
      "|   19|['Investigative R...|Medical experts w...|2020-03-26 08:00:00|Medical experts a...|Medical experts a...|https://www.cbc.c...|     1745|\n",
      "|   20|['Hadeel Ibrahim ...|It's 'too late' f...|2020-03-27 08:00:00|New Brunswick has...|New Brunswick has...|https://www.cbc.c...|     1239|\n",
      "+-----+--------------------+--------------------+-------------------+--------------------+--------------------+--------------------+---------+\n",
      "only showing top 20 rows\n",
      "\n"
     ]
    }
   ],
   "source": [
    "nnewdf = newdf.withColumn('wordCount', x.size(x.split(x.col('text'), ' ')))\n",
    "nnewdf.show()"
   ]
  },
  {
   "cell_type": "code",
   "execution_count": 33,
   "metadata": {},
   "outputs": [
    {
     "name": "stdout",
     "output_type": "stream",
     "text": [
      "+--------------------+--------------------+-------------------+--------------------+--------------------+---------+\n",
      "|             authors|               title|       publish_date|                text|                 url|wordCount|\n",
      "+--------------------+--------------------+-------------------+--------------------+--------------------+---------+\n",
      "|        ['Cbc News']|Coronavirus a 'wa...|2020-03-27 08:00:00|Canadian pharmaci...|https://www.cbc.c...|      395|\n",
      "|        ['Cbc News']|Yukon gov't names...|2020-03-27 01:45:00|The Yukon governm...|https://www.cbc.c...|      303|\n",
      "|['The Associated ...|U.S. Senate passe...|2020-03-26 05:13:00|The Senate late W...|https://www.cbc.c...|      974|\n",
      "|        ['Cbc News']|Coronavirus: The ...|2020-03-27 00:36:00|Scientists around...|https://www.cbc.c...|      721|\n",
      "|        ['Cbc News']|The latest on the...|2020-03-26 20:57:00|   Trudeau says r...|https://www.cbc.c...|     1388|\n",
      "|['Mark Gollom Is ...|'Worse' pandemic ...|2020-03-27 08:00:00|The continued exi...|https://www.cbc.c...|     1017|\n",
      "|        ['Cbc News']|What you need to ...|2020-03-27 08:00:00|Recent developmen...|https://www.cbc.c...|     1821|\n",
      "|['The Associated ...|Michigan hospital...|2020-03-26 11:02:00|Michigan hospital...|https://www.cbc.c...|      131|\n",
      "| ['Thomson Reuters']|U.S. coronavirus ...|2020-03-26 14:55:00|The number of con...|https://www.cbc.c...|     1407|\n",
      "|['Leah Hendry Is ...|'Avoid the emerge...|2020-03-27 08:00:00|The Jewish Genera...|https://www.cbc.c...|      652|\n",
      "|['Reporter', 'Web...|COVID-19 in Sask:...|2020-03-26 14:18:00| Three Saskatchew...|https://www.cbc.c...|     1490|\n",
      "|['Jorge Barrera I...|Manitoba chiefs o...|2020-03-27 08:01:00|A Manitoba chiefs...|https://www.cbc.c...|      789|\n",
      "|['Colleen M. Floo...|How invoking the ...|2020-03-27 08:00:00|This column is an...|https://www.cbc.c...|     1051|\n",
      "|['Producer', 'Cbc...|In Ontario, const...|2020-03-27 08:00:00|Construction is o...|https://www.cbc.c...|     1557|\n",
      "|['Dan Mcgarvey Is...|Alberta's film in...|2020-03-26 12:00:00|Albertas TV and m...|https://www.cbc.c...|      687|\n",
      "|['Cbc News New Yo...|'Like a war zone'...|2020-03-27 08:00:00|The first wave hi...|https://www.cbc.c...|      908|\n",
      "|                  []|N.L. fisheries re...|2020-03-27 08:30:00|A Memorial Univer...|https://www.cbc.c...|      484|\n",
      "|                  []|1st death, 3 new ...|2020-03-11 00:15:00|Manitoba is under...|https://www.cbc.c...|     4783|\n",
      "|['Investigative R...|Medical experts w...|2020-03-26 08:00:00|Medical experts a...|https://www.cbc.c...|     1745|\n",
      "|['Hadeel Ibrahim ...|It's 'too late' f...|2020-03-27 08:00:00|New Brunswick has...|https://www.cbc.c...|     1239|\n",
      "+--------------------+--------------------+-------------------+--------------------+--------------------+---------+\n",
      "only showing top 20 rows\n",
      "\n"
     ]
    }
   ],
   "source": [
    "nnewdf.select(\"authors\",\"title\",\"publish_date\",\"text\",\"url\",\"wordCount\").show()"
   ]
  },
  {
   "cell_type": "code",
   "execution_count": null,
   "metadata": {},
   "outputs": [],
   "source": [
    "counts_rdd.write.parquet('s3://msbx5420-2020/Team-Torreys-Peak/counts.parquet')"
   ]
  },
  {
   "cell_type": "code",
   "execution_count": null,
   "metadata": {},
   "outputs": [],
   "source": [
    "nnewdf.write.parquet('s3://msbx5420-2020/Team-Torreys-Peak/news_countnews.parquet')"
   ]
  },
  {
   "cell_type": "code",
   "execution_count": null,
   "metadata": {},
   "outputs": [],
   "source": []
  }
 ],
 "metadata": {
  "kernelspec": {
   "display_name": "Python 3",
   "language": "python",
   "name": "python3"
  },
  "language_info": {
   "codemirror_mode": {
    "name": "ipython",
    "version": 3
   },
   "file_extension": ".py",
   "mimetype": "text/x-python",
   "name": "python",
   "nbconvert_exporter": "python",
   "pygments_lexer": "ipython3",
   "version": "3.6.8"
  }
 },
 "nbformat": 4,
 "nbformat_minor": 4
}
